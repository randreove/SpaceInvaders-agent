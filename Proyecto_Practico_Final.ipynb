{
  "cells": [
    {
      "cell_type": "markdown",
      "metadata": {
        "id": "view-in-github",
        "colab_type": "text"
      },
      "source": [
        "<a href=\"https://colab.research.google.com/github/randreove/SpaceInvaders-agent/blob/main/Proyecto_Practico_Final.ipynb\" target=\"_parent\"><img src=\"https://colab.research.google.com/assets/colab-badge.svg\" alt=\"Open In Colab\"/></a>"
      ]
    },
    {
      "cell_type": "markdown",
      "source": [
        "# Actividad - Proyecto práctico\n",
        "\n",
        "\n",
        "> La actividad se desarrollará en grupos pre-definidos de 2-3 alumnos. Se debe indicar los nombres en orden alfabético (de apellidos). Recordad que esta actividad se corresponde con un 30% de la nota final de la asignatura. Se debe entregar entregar el trabajo en la presente notebook.\n",
        "*   Alumno 1: Rafael Andreo de la Vega\n",
        "*   Alumno 2: Álvaro Alfonso Moya Sanz\n",
        "*   Alumno 3: Guido Alexander Heienbrok\n",
        "\n",
        "\n",
        "\n",
        "\n"
      ],
      "metadata": {
        "id": "jUehXgCyIRdq"
      }
    },
    {
      "cell_type": "markdown",
      "source": [
        "---\n",
        "## **PARTE 1** - Instalación y requisitos previos\n",
        "\n",
        "> Las prácticas han sido preparadas para poder realizarse en el entorno de trabajo de Google Colab. Sin embargo, esta plataforma presenta ciertas incompatibilidades a la hora de visualizar la renderización en gym. Por ello, para obtener estas visualizaciones, se deberá trasladar el entorno de trabajo a local. Por ello, el presente dosier presenta instrucciones para poder trabajar en ambos entornos. Siga los siguientes pasos para un correcto funcionamiento:\n",
        "1.   **LOCAL:** Preparar el enviroment, siguiendo las intrucciones detalladas en la sección *1.1.Preparar enviroment*.\n",
        "2.  **AMBOS:** Modificar las variables \"mount\" y \"drive_mount\" a la carpeta de trabajo en drive en el caso de estar en Colab, y ejecturar la celda *1.2.Localizar entorno de trabajo*.\n",
        "3. **COLAB:** se deberá ejecutar las celdas correspondientes al montaje de la carpeta de trabajo en Drive. Esta corresponde a la sección *1.3.Montar carpeta de datos local*.\n",
        "4.  **AMBOS:** Instalar las librerías necesarias, siguiendo la sección *1.4.Instalar librerías necesarias*.\n"
      ],
      "metadata": {
        "id": "JwpYlnjWJhS9"
      }
    },
    {
      "cell_type": "markdown",
      "source": [
        "---\n",
        "### 1.1. Preparar enviroment (solo local)\n",
        "\n",
        "\n",
        "\n",
        "> Para preparar el entorno de trabajo en local, se han seguido los siguientes pasos:\n",
        "1. En Windows, puede ser necesario instalar las C++ Build Tools. Para ello, siga los siguientes pasos: https://towardsdatascience.com/how-to-install-openai-gym-in-a-windows-environment-338969e24d30.\n",
        "2. Instalar Anaconda\n",
        "3. Siguiendo el código que se presenta comentado en la próxima celda: Crear un enviroment, cambiar la ruta de trabajo, e instalar librerías básicas.\n",
        "\n",
        "\n",
        "```\n",
        "conda create --name miar_rl python=3.8\n",
        "conda activate miar_rl\n",
        "cd \"PATH_TO_FOLDER\"\n",
        "conda install git\n",
        "pip install jupyter\n",
        "```\n",
        "\n",
        "\n",
        "4. Abrir la notebook con *jupyter-notebook*.\n",
        "\n",
        "\n",
        "\n",
        "```\n",
        "jupyter-notebook\n",
        "```\n"
      ],
      "metadata": {
        "id": "RU2BPrK2JkP0"
      }
    },
    {
      "cell_type": "markdown",
      "source": [
        "---\n",
        "### 1.2. Localizar entorno de trabajo: Google colab o local"
      ],
      "metadata": {
        "id": "w-kixNPiJqTc"
      }
    },
    {
      "cell_type": "code",
      "source": [
        "# ATENCIÓN!! Modificar ruta relativa a la práctica si es distinta (drive_root)\n",
        "mount='/content/gdrive'\n",
        "drive_root = mount + \"/My Drive/08MIAR/Practica\"\n",
        "\n",
        "try:\n",
        "  from google.colab import drive\n",
        "  IN_COLAB=True\n",
        "except:\n",
        "  IN_COLAB=False"
      ],
      "metadata": {
        "id": "S_YDFwZ-JscI"
      },
      "execution_count": null,
      "outputs": []
    },
    {
      "cell_type": "markdown",
      "source": [
        "---\n",
        "### 1.3. Montar carpeta de datos local (solo Colab)"
      ],
      "metadata": {
        "id": "8Dp_a1iBJ0tf"
      }
    },
    {
      "cell_type": "code",
      "source": [
        "# Switch to the directory on the Google Drive that you want to use\n",
        "import os\n",
        "if IN_COLAB:\n",
        "  print(\"We're running Colab\")\n",
        "\n",
        "  if IN_COLAB:\n",
        "    # Mount the Google Drive at mount\n",
        "    print(\"Colab: mounting Google drive on \", mount)\n",
        "\n",
        "    drive.mount(mount)\n",
        "\n",
        "    # Create drive_root if it doesn't exist\n",
        "    create_drive_root = True\n",
        "    if create_drive_root:\n",
        "      print(\"\\nColab: making sure \", drive_root, \" exists.\")\n",
        "      os.makedirs(drive_root, exist_ok=True)\n",
        "\n",
        "    # Change to the directory\n",
        "    print(\"\\nColab: Changing directory to \", drive_root)\n",
        "    %cd $drive_root\n",
        "# Verify we're in the correct working directory\n",
        "%pwd\n",
        "print(\"Archivos en el directorio: \")\n",
        "print(os.listdir())"
      ],
      "metadata": {
        "id": "I6n7MIefJ21i",
        "colab": {
          "base_uri": "https://localhost:8080/"
        },
        "outputId": "308bae86-07ff-4c08-9865-6e0d4632f6f5"
      },
      "execution_count": null,
      "outputs": [
        {
          "output_type": "stream",
          "name": "stdout",
          "text": [
            "We're running Colab\n",
            "Colab: mounting Google drive on  /content/gdrive\n",
            "Mounted at /content/gdrive\n",
            "\n",
            "Colab: making sure  /content/gdrive/My Drive/08MIAR/Practica  exists.\n",
            "\n",
            "Colab: Changing directory to  /content/gdrive/My Drive/08MIAR/Practica\n",
            "/content/gdrive/My Drive/08MIAR/Practica\n",
            "Archivos en el directorio: \n",
            "['Proyecto_práctico_Rafa_v2.ipynb', 'Bueno', 'dqn_SpaceInvaders-v0_log.json', 'checkpoint', 'dqn_SpaceInvaders-v0_weights.h5f.data-00000-of-00001', 'dqn_SpaceInvaders-v0_weights.h5f.index']\n"
          ]
        }
      ]
    },
    {
      "cell_type": "markdown",
      "source": [
        "---\n",
        "### 1.4. Instalar librerías necesarias"
      ],
      "metadata": {
        "id": "i1ZSL5bpJ560"
      }
    },
    {
      "cell_type": "code",
      "source": [
        "if IN_COLAB:\n",
        "  %pip install gym==0.17.3\n",
        "  %pip install git+https://github.com/Kojoley/atari-py.git\n",
        "  %pip install keras-rl2==1.0.5\n",
        "  %pip install tensorflow==2.8\n",
        "else:\n",
        "  %pip install gym==0.17.3\n",
        "  %pip install git+https://github.com/Kojoley/atari-py.git\n",
        "  %pip install pyglet==1.5.0\n",
        "  %pip install h5py==3.1.0\n",
        "  %pip install Pillow==9.5.0\n",
        "  %pip install keras-rl2==1.0.5\n",
        "  %pip install Keras==2.2.4\n",
        "  %pip install tensorflow==2.5.3\n",
        "  %pip install torch==2.0.1\n",
        "  %pip install agents==1.4.0"
      ],
      "metadata": {
        "id": "UbVRjvHCJ8UF",
        "colab": {
          "base_uri": "https://localhost:8080/"
        },
        "outputId": "e1d5241d-78d0-4ccf-da15-21292fa62905"
      },
      "execution_count": null,
      "outputs": [
        {
          "output_type": "stream",
          "name": "stdout",
          "text": [
            "Collecting gym==0.17.3\n",
            "  Downloading gym-0.17.3.tar.gz (1.6 MB)\n",
            "\u001b[2K     \u001b[90m━━━━━━━━━━━━━━━━━━━━━━━━━━━━━━━━━━━━━━━━\u001b[0m \u001b[32m1.6/1.6 MB\u001b[0m \u001b[31m7.0 MB/s\u001b[0m eta \u001b[36m0:00:00\u001b[0m\n",
            "\u001b[?25h  Preparing metadata (setup.py) ... \u001b[?25l\u001b[?25hdone\n",
            "Requirement already satisfied: scipy in /usr/local/lib/python3.10/dist-packages (from gym==0.17.3) (1.11.4)\n",
            "Requirement already satisfied: numpy>=1.10.4 in /usr/local/lib/python3.10/dist-packages (from gym==0.17.3) (1.23.5)\n",
            "Collecting pyglet<=1.5.0,>=1.4.0 (from gym==0.17.3)\n",
            "  Downloading pyglet-1.5.0-py2.py3-none-any.whl (1.0 MB)\n",
            "\u001b[2K     \u001b[90m━━━━━━━━━━━━━━━━━━━━━━━━━━━━━━━━━━━━━━━━\u001b[0m \u001b[32m1.0/1.0 MB\u001b[0m \u001b[31m14.0 MB/s\u001b[0m eta \u001b[36m0:00:00\u001b[0m\n",
            "\u001b[?25hCollecting cloudpickle<1.7.0,>=1.2.0 (from gym==0.17.3)\n",
            "  Downloading cloudpickle-1.6.0-py3-none-any.whl (23 kB)\n",
            "Requirement already satisfied: future in /usr/local/lib/python3.10/dist-packages (from pyglet<=1.5.0,>=1.4.0->gym==0.17.3) (0.18.3)\n",
            "Building wheels for collected packages: gym\n",
            "  Building wheel for gym (setup.py) ... \u001b[?25l\u001b[?25hdone\n",
            "  Created wheel for gym: filename=gym-0.17.3-py3-none-any.whl size=1654618 sha256=b1669b206100834a38316f619d8404b71942857e913f71821b134e6aa1c7c55d\n",
            "  Stored in directory: /root/.cache/pip/wheels/af/4b/74/fcfc8238472c34d7f96508a63c962ff3ac9485a9a4137afd4e\n",
            "Successfully built gym\n",
            "Installing collected packages: pyglet, cloudpickle, gym\n",
            "  Attempting uninstall: cloudpickle\n",
            "    Found existing installation: cloudpickle 2.2.1\n",
            "    Uninstalling cloudpickle-2.2.1:\n",
            "      Successfully uninstalled cloudpickle-2.2.1\n",
            "  Attempting uninstall: gym\n",
            "    Found existing installation: gym 0.25.2\n",
            "    Uninstalling gym-0.25.2:\n",
            "      Successfully uninstalled gym-0.25.2\n",
            "\u001b[31mERROR: pip's dependency resolver does not currently take into account all the packages that are installed. This behaviour is the source of the following dependency conflicts.\n",
            "bigframes 0.15.0 requires cloudpickle>=2.0.0, but you have cloudpickle 1.6.0 which is incompatible.\u001b[0m\u001b[31m\n",
            "\u001b[0mSuccessfully installed cloudpickle-1.6.0 gym-0.17.3 pyglet-1.5.0\n",
            "Collecting git+https://github.com/Kojoley/atari-py.git\n",
            "  Cloning https://github.com/Kojoley/atari-py.git to /tmp/pip-req-build-eoafr04j\n",
            "  Running command git clone --filter=blob:none --quiet https://github.com/Kojoley/atari-py.git /tmp/pip-req-build-eoafr04j\n",
            "  Resolved https://github.com/Kojoley/atari-py.git to commit 86a1e05c0a95e9e6233c3a413521fdb34ca8a089\n",
            "  Preparing metadata (setup.py) ... \u001b[?25l\u001b[?25hdone\n",
            "Requirement already satisfied: numpy in /usr/local/lib/python3.10/dist-packages (from atari-py==1.2.2) (1.23.5)\n",
            "Building wheels for collected packages: atari-py\n",
            "  Building wheel for atari-py (setup.py) ... \u001b[?25l\u001b[?25hdone\n",
            "  Created wheel for atari-py: filename=atari_py-1.2.2-cp310-cp310-linux_x86_64.whl size=4738552 sha256=d9cec3c77f39e31fce457023b1e1d411a3ab4446506321e92cb63e49b3ccc77f\n",
            "  Stored in directory: /tmp/pip-ephem-wheel-cache-4ictw5yg/wheels/6c/9b/f1/8a80a63a233d6f4eb2e2ee8c7357f4875f21c3ffc7f2613f9f\n",
            "Successfully built atari-py\n",
            "Installing collected packages: atari-py\n",
            "Successfully installed atari-py-1.2.2\n",
            "Collecting keras-rl2==1.0.5\n",
            "  Downloading keras_rl2-1.0.5-py3-none-any.whl (52 kB)\n",
            "\u001b[2K     \u001b[90m━━━━━━━━━━━━━━━━━━━━━━━━━━━━━━━━━━━━━━━━\u001b[0m \u001b[32m52.1/52.1 kB\u001b[0m \u001b[31m1.1 MB/s\u001b[0m eta \u001b[36m0:00:00\u001b[0m\n",
            "\u001b[?25hRequirement already satisfied: tensorflow in /usr/local/lib/python3.10/dist-packages (from keras-rl2==1.0.5) (2.14.0)\n",
            "Requirement already satisfied: absl-py>=1.0.0 in /usr/local/lib/python3.10/dist-packages (from tensorflow->keras-rl2==1.0.5) (1.4.0)\n",
            "Requirement already satisfied: astunparse>=1.6.0 in /usr/local/lib/python3.10/dist-packages (from tensorflow->keras-rl2==1.0.5) (1.6.3)\n",
            "Requirement already satisfied: flatbuffers>=23.5.26 in /usr/local/lib/python3.10/dist-packages (from tensorflow->keras-rl2==1.0.5) (23.5.26)\n",
            "Requirement already satisfied: gast!=0.5.0,!=0.5.1,!=0.5.2,>=0.2.1 in /usr/local/lib/python3.10/dist-packages (from tensorflow->keras-rl2==1.0.5) (0.5.4)\n",
            "Requirement already satisfied: google-pasta>=0.1.1 in /usr/local/lib/python3.10/dist-packages (from tensorflow->keras-rl2==1.0.5) (0.2.0)\n",
            "Requirement already satisfied: h5py>=2.9.0 in /usr/local/lib/python3.10/dist-packages (from tensorflow->keras-rl2==1.0.5) (3.9.0)\n",
            "Requirement already satisfied: libclang>=13.0.0 in /usr/local/lib/python3.10/dist-packages (from tensorflow->keras-rl2==1.0.5) (16.0.6)\n",
            "Requirement already satisfied: ml-dtypes==0.2.0 in /usr/local/lib/python3.10/dist-packages (from tensorflow->keras-rl2==1.0.5) (0.2.0)\n",
            "Requirement already satisfied: numpy>=1.23.5 in /usr/local/lib/python3.10/dist-packages (from tensorflow->keras-rl2==1.0.5) (1.23.5)\n",
            "Requirement already satisfied: opt-einsum>=2.3.2 in /usr/local/lib/python3.10/dist-packages (from tensorflow->keras-rl2==1.0.5) (3.3.0)\n",
            "Requirement already satisfied: packaging in /usr/local/lib/python3.10/dist-packages (from tensorflow->keras-rl2==1.0.5) (23.2)\n",
            "Requirement already satisfied: protobuf!=4.21.0,!=4.21.1,!=4.21.2,!=4.21.3,!=4.21.4,!=4.21.5,<5.0.0dev,>=3.20.3 in /usr/local/lib/python3.10/dist-packages (from tensorflow->keras-rl2==1.0.5) (3.20.3)\n",
            "Requirement already satisfied: setuptools in /usr/local/lib/python3.10/dist-packages (from tensorflow->keras-rl2==1.0.5) (67.7.2)\n",
            "Requirement already satisfied: six>=1.12.0 in /usr/local/lib/python3.10/dist-packages (from tensorflow->keras-rl2==1.0.5) (1.16.0)\n",
            "Requirement already satisfied: termcolor>=1.1.0 in /usr/local/lib/python3.10/dist-packages (from tensorflow->keras-rl2==1.0.5) (2.3.0)\n",
            "Requirement already satisfied: typing-extensions>=3.6.6 in /usr/local/lib/python3.10/dist-packages (from tensorflow->keras-rl2==1.0.5) (4.5.0)\n",
            "Requirement already satisfied: wrapt<1.15,>=1.11.0 in /usr/local/lib/python3.10/dist-packages (from tensorflow->keras-rl2==1.0.5) (1.14.1)\n",
            "Requirement already satisfied: tensorflow-io-gcs-filesystem>=0.23.1 in /usr/local/lib/python3.10/dist-packages (from tensorflow->keras-rl2==1.0.5) (0.34.0)\n",
            "Requirement already satisfied: grpcio<2.0,>=1.24.3 in /usr/local/lib/python3.10/dist-packages (from tensorflow->keras-rl2==1.0.5) (1.59.3)\n",
            "Requirement already satisfied: tensorboard<2.15,>=2.14 in /usr/local/lib/python3.10/dist-packages (from tensorflow->keras-rl2==1.0.5) (2.14.1)\n",
            "Requirement already satisfied: tensorflow-estimator<2.15,>=2.14.0 in /usr/local/lib/python3.10/dist-packages (from tensorflow->keras-rl2==1.0.5) (2.14.0)\n",
            "Requirement already satisfied: keras<2.15,>=2.14.0 in /usr/local/lib/python3.10/dist-packages (from tensorflow->keras-rl2==1.0.5) (2.14.0)\n",
            "Requirement already satisfied: wheel<1.0,>=0.23.0 in /usr/local/lib/python3.10/dist-packages (from astunparse>=1.6.0->tensorflow->keras-rl2==1.0.5) (0.42.0)\n",
            "Requirement already satisfied: google-auth<3,>=1.6.3 in /usr/local/lib/python3.10/dist-packages (from tensorboard<2.15,>=2.14->tensorflow->keras-rl2==1.0.5) (2.17.3)\n",
            "Requirement already satisfied: google-auth-oauthlib<1.1,>=0.5 in /usr/local/lib/python3.10/dist-packages (from tensorboard<2.15,>=2.14->tensorflow->keras-rl2==1.0.5) (1.0.0)\n",
            "Requirement already satisfied: markdown>=2.6.8 in /usr/local/lib/python3.10/dist-packages (from tensorboard<2.15,>=2.14->tensorflow->keras-rl2==1.0.5) (3.5.1)\n",
            "Requirement already satisfied: requests<3,>=2.21.0 in /usr/local/lib/python3.10/dist-packages (from tensorboard<2.15,>=2.14->tensorflow->keras-rl2==1.0.5) (2.31.0)\n",
            "Requirement already satisfied: tensorboard-data-server<0.8.0,>=0.7.0 in /usr/local/lib/python3.10/dist-packages (from tensorboard<2.15,>=2.14->tensorflow->keras-rl2==1.0.5) (0.7.2)\n",
            "Requirement already satisfied: werkzeug>=1.0.1 in /usr/local/lib/python3.10/dist-packages (from tensorboard<2.15,>=2.14->tensorflow->keras-rl2==1.0.5) (3.0.1)\n",
            "Requirement already satisfied: cachetools<6.0,>=2.0.0 in /usr/local/lib/python3.10/dist-packages (from google-auth<3,>=1.6.3->tensorboard<2.15,>=2.14->tensorflow->keras-rl2==1.0.5) (5.3.2)\n",
            "Requirement already satisfied: pyasn1-modules>=0.2.1 in /usr/local/lib/python3.10/dist-packages (from google-auth<3,>=1.6.3->tensorboard<2.15,>=2.14->tensorflow->keras-rl2==1.0.5) (0.3.0)\n",
            "Requirement already satisfied: rsa<5,>=3.1.4 in /usr/local/lib/python3.10/dist-packages (from google-auth<3,>=1.6.3->tensorboard<2.15,>=2.14->tensorflow->keras-rl2==1.0.5) (4.9)\n",
            "Requirement already satisfied: requests-oauthlib>=0.7.0 in /usr/local/lib/python3.10/dist-packages (from google-auth-oauthlib<1.1,>=0.5->tensorboard<2.15,>=2.14->tensorflow->keras-rl2==1.0.5) (1.3.1)\n",
            "Requirement already satisfied: charset-normalizer<4,>=2 in /usr/local/lib/python3.10/dist-packages (from requests<3,>=2.21.0->tensorboard<2.15,>=2.14->tensorflow->keras-rl2==1.0.5) (3.3.2)\n",
            "Requirement already satisfied: idna<4,>=2.5 in /usr/local/lib/python3.10/dist-packages (from requests<3,>=2.21.0->tensorboard<2.15,>=2.14->tensorflow->keras-rl2==1.0.5) (3.6)\n",
            "Requirement already satisfied: urllib3<3,>=1.21.1 in /usr/local/lib/python3.10/dist-packages (from requests<3,>=2.21.0->tensorboard<2.15,>=2.14->tensorflow->keras-rl2==1.0.5) (2.0.7)\n",
            "Requirement already satisfied: certifi>=2017.4.17 in /usr/local/lib/python3.10/dist-packages (from requests<3,>=2.21.0->tensorboard<2.15,>=2.14->tensorflow->keras-rl2==1.0.5) (2023.11.17)\n",
            "Requirement already satisfied: MarkupSafe>=2.1.1 in /usr/local/lib/python3.10/dist-packages (from werkzeug>=1.0.1->tensorboard<2.15,>=2.14->tensorflow->keras-rl2==1.0.5) (2.1.3)\n",
            "Requirement already satisfied: pyasn1<0.6.0,>=0.4.6 in /usr/local/lib/python3.10/dist-packages (from pyasn1-modules>=0.2.1->google-auth<3,>=1.6.3->tensorboard<2.15,>=2.14->tensorflow->keras-rl2==1.0.5) (0.5.1)\n",
            "Requirement already satisfied: oauthlib>=3.0.0 in /usr/local/lib/python3.10/dist-packages (from requests-oauthlib>=0.7.0->google-auth-oauthlib<1.1,>=0.5->tensorboard<2.15,>=2.14->tensorflow->keras-rl2==1.0.5) (3.2.2)\n",
            "Installing collected packages: keras-rl2\n",
            "Successfully installed keras-rl2-1.0.5\n",
            "Collecting tensorflow==2.8\n",
            "  Downloading tensorflow-2.8.0-cp310-cp310-manylinux2010_x86_64.whl (497.6 MB)\n",
            "\u001b[2K     \u001b[90m━━━━━━━━━━━━━━━━━━━━━━━━━━━━━━━━━━━━━━━━\u001b[0m \u001b[32m497.6/497.6 MB\u001b[0m \u001b[31m2.4 MB/s\u001b[0m eta \u001b[36m0:00:00\u001b[0m\n",
            "\u001b[?25hRequirement already satisfied: absl-py>=0.4.0 in /usr/local/lib/python3.10/dist-packages (from tensorflow==2.8) (1.4.0)\n",
            "Requirement already satisfied: astunparse>=1.6.0 in /usr/local/lib/python3.10/dist-packages (from tensorflow==2.8) (1.6.3)\n",
            "Requirement already satisfied: flatbuffers>=1.12 in /usr/local/lib/python3.10/dist-packages (from tensorflow==2.8) (23.5.26)\n",
            "Requirement already satisfied: gast>=0.2.1 in /usr/local/lib/python3.10/dist-packages (from tensorflow==2.8) (0.5.4)\n",
            "Requirement already satisfied: google-pasta>=0.1.1 in /usr/local/lib/python3.10/dist-packages (from tensorflow==2.8) (0.2.0)\n",
            "Requirement already satisfied: h5py>=2.9.0 in /usr/local/lib/python3.10/dist-packages (from tensorflow==2.8) (3.9.0)\n",
            "Collecting keras-preprocessing>=1.1.1 (from tensorflow==2.8)\n",
            "  Downloading Keras_Preprocessing-1.1.2-py2.py3-none-any.whl (42 kB)\n",
            "\u001b[2K     \u001b[90m━━━━━━━━━━━━━━━━━━━━━━━━━━━━━━━━━━━━━━━━\u001b[0m \u001b[32m42.6/42.6 kB\u001b[0m \u001b[31m4.4 MB/s\u001b[0m eta \u001b[36m0:00:00\u001b[0m\n",
            "\u001b[?25hRequirement already satisfied: libclang>=9.0.1 in /usr/local/lib/python3.10/dist-packages (from tensorflow==2.8) (16.0.6)\n",
            "Requirement already satisfied: numpy>=1.20 in /usr/local/lib/python3.10/dist-packages (from tensorflow==2.8) (1.23.5)\n",
            "Requirement already satisfied: opt-einsum>=2.3.2 in /usr/local/lib/python3.10/dist-packages (from tensorflow==2.8) (3.3.0)\n",
            "Requirement already satisfied: protobuf>=3.9.2 in /usr/local/lib/python3.10/dist-packages (from tensorflow==2.8) (3.20.3)\n",
            "Requirement already satisfied: setuptools in /usr/local/lib/python3.10/dist-packages (from tensorflow==2.8) (67.7.2)\n",
            "Requirement already satisfied: six>=1.12.0 in /usr/local/lib/python3.10/dist-packages (from tensorflow==2.8) (1.16.0)\n",
            "Requirement already satisfied: termcolor>=1.1.0 in /usr/local/lib/python3.10/dist-packages (from tensorflow==2.8) (2.3.0)\n",
            "Requirement already satisfied: typing-extensions>=3.6.6 in /usr/local/lib/python3.10/dist-packages (from tensorflow==2.8) (4.5.0)\n",
            "Requirement already satisfied: wrapt>=1.11.0 in /usr/local/lib/python3.10/dist-packages (from tensorflow==2.8) (1.14.1)\n",
            "Collecting tensorboard<2.9,>=2.8 (from tensorflow==2.8)\n",
            "  Downloading tensorboard-2.8.0-py3-none-any.whl (5.8 MB)\n",
            "\u001b[2K     \u001b[90m━━━━━━━━━━━━━━━━━━━━━━━━━━━━━━━━━━━━━━━━\u001b[0m \u001b[32m5.8/5.8 MB\u001b[0m \u001b[31m36.9 MB/s\u001b[0m eta \u001b[36m0:00:00\u001b[0m\n",
            "\u001b[?25hCollecting tf-estimator-nightly==2.8.0.dev2021122109 (from tensorflow==2.8)\n",
            "  Downloading tf_estimator_nightly-2.8.0.dev2021122109-py2.py3-none-any.whl (462 kB)\n",
            "\u001b[2K     \u001b[90m━━━━━━━━━━━━━━━━━━━━━━━━━━━━━━━━━━━━━━━━\u001b[0m \u001b[32m462.5/462.5 kB\u001b[0m \u001b[31m36.9 MB/s\u001b[0m eta \u001b[36m0:00:00\u001b[0m\n",
            "\u001b[?25hCollecting keras<2.9,>=2.8.0rc0 (from tensorflow==2.8)\n",
            "  Downloading keras-2.8.0-py2.py3-none-any.whl (1.4 MB)\n",
            "\u001b[2K     \u001b[90m━━━━━━━━━━━━━━━━━━━━━━━━━━━━━━━━━━━━━━━━\u001b[0m \u001b[32m1.4/1.4 MB\u001b[0m \u001b[31m22.6 MB/s\u001b[0m eta \u001b[36m0:00:00\u001b[0m\n",
            "\u001b[?25hRequirement already satisfied: tensorflow-io-gcs-filesystem>=0.23.1 in /usr/local/lib/python3.10/dist-packages (from tensorflow==2.8) (0.34.0)\n",
            "Requirement already satisfied: grpcio<2.0,>=1.24.3 in /usr/local/lib/python3.10/dist-packages (from tensorflow==2.8) (1.59.3)\n",
            "Requirement already satisfied: wheel<1.0,>=0.23.0 in /usr/local/lib/python3.10/dist-packages (from astunparse>=1.6.0->tensorflow==2.8) (0.42.0)\n",
            "Requirement already satisfied: google-auth<3,>=1.6.3 in /usr/local/lib/python3.10/dist-packages (from tensorboard<2.9,>=2.8->tensorflow==2.8) (2.17.3)\n",
            "Collecting google-auth-oauthlib<0.5,>=0.4.1 (from tensorboard<2.9,>=2.8->tensorflow==2.8)\n",
            "  Downloading google_auth_oauthlib-0.4.6-py2.py3-none-any.whl (18 kB)\n",
            "Requirement already satisfied: markdown>=2.6.8 in /usr/local/lib/python3.10/dist-packages (from tensorboard<2.9,>=2.8->tensorflow==2.8) (3.5.1)\n",
            "Requirement already satisfied: requests<3,>=2.21.0 in /usr/local/lib/python3.10/dist-packages (from tensorboard<2.9,>=2.8->tensorflow==2.8) (2.31.0)\n",
            "Collecting tensorboard-data-server<0.7.0,>=0.6.0 (from tensorboard<2.9,>=2.8->tensorflow==2.8)\n",
            "  Downloading tensorboard_data_server-0.6.1-py3-none-manylinux2010_x86_64.whl (4.9 MB)\n",
            "\u001b[2K     \u001b[90m━━━━━━━━━━━━━━━━━━━━━━━━━━━━━━━━━━━━━━━━\u001b[0m \u001b[32m4.9/4.9 MB\u001b[0m \u001b[31m38.4 MB/s\u001b[0m eta \u001b[36m0:00:00\u001b[0m\n",
            "\u001b[?25hCollecting tensorboard-plugin-wit>=1.6.0 (from tensorboard<2.9,>=2.8->tensorflow==2.8)\n",
            "  Downloading tensorboard_plugin_wit-1.8.1-py3-none-any.whl (781 kB)\n",
            "\u001b[2K     \u001b[90m━━━━━━━━━━━━━━━━━━━━━━━━━━━━━━━━━━━━━━━━\u001b[0m \u001b[32m781.3/781.3 kB\u001b[0m \u001b[31m37.2 MB/s\u001b[0m eta \u001b[36m0:00:00\u001b[0m\n",
            "\u001b[?25hRequirement already satisfied: werkzeug>=0.11.15 in /usr/local/lib/python3.10/dist-packages (from tensorboard<2.9,>=2.8->tensorflow==2.8) (3.0.1)\n",
            "Requirement already satisfied: cachetools<6.0,>=2.0.0 in /usr/local/lib/python3.10/dist-packages (from google-auth<3,>=1.6.3->tensorboard<2.9,>=2.8->tensorflow==2.8) (5.3.2)\n",
            "Requirement already satisfied: pyasn1-modules>=0.2.1 in /usr/local/lib/python3.10/dist-packages (from google-auth<3,>=1.6.3->tensorboard<2.9,>=2.8->tensorflow==2.8) (0.3.0)\n",
            "Requirement already satisfied: rsa<5,>=3.1.4 in /usr/local/lib/python3.10/dist-packages (from google-auth<3,>=1.6.3->tensorboard<2.9,>=2.8->tensorflow==2.8) (4.9)\n",
            "Requirement already satisfied: requests-oauthlib>=0.7.0 in /usr/local/lib/python3.10/dist-packages (from google-auth-oauthlib<0.5,>=0.4.1->tensorboard<2.9,>=2.8->tensorflow==2.8) (1.3.1)\n",
            "Requirement already satisfied: charset-normalizer<4,>=2 in /usr/local/lib/python3.10/dist-packages (from requests<3,>=2.21.0->tensorboard<2.9,>=2.8->tensorflow==2.8) (3.3.2)\n",
            "Requirement already satisfied: idna<4,>=2.5 in /usr/local/lib/python3.10/dist-packages (from requests<3,>=2.21.0->tensorboard<2.9,>=2.8->tensorflow==2.8) (3.6)\n",
            "Requirement already satisfied: urllib3<3,>=1.21.1 in /usr/local/lib/python3.10/dist-packages (from requests<3,>=2.21.0->tensorboard<2.9,>=2.8->tensorflow==2.8) (2.0.7)\n",
            "Requirement already satisfied: certifi>=2017.4.17 in /usr/local/lib/python3.10/dist-packages (from requests<3,>=2.21.0->tensorboard<2.9,>=2.8->tensorflow==2.8) (2023.11.17)\n",
            "Requirement already satisfied: MarkupSafe>=2.1.1 in /usr/local/lib/python3.10/dist-packages (from werkzeug>=0.11.15->tensorboard<2.9,>=2.8->tensorflow==2.8) (2.1.3)\n",
            "Requirement already satisfied: pyasn1<0.6.0,>=0.4.6 in /usr/local/lib/python3.10/dist-packages (from pyasn1-modules>=0.2.1->google-auth<3,>=1.6.3->tensorboard<2.9,>=2.8->tensorflow==2.8) (0.5.1)\n",
            "Requirement already satisfied: oauthlib>=3.0.0 in /usr/local/lib/python3.10/dist-packages (from requests-oauthlib>=0.7.0->google-auth-oauthlib<0.5,>=0.4.1->tensorboard<2.9,>=2.8->tensorflow==2.8) (3.2.2)\n",
            "Installing collected packages: tf-estimator-nightly, tensorboard-plugin-wit, keras, tensorboard-data-server, keras-preprocessing, google-auth-oauthlib, tensorboard, tensorflow\n",
            "  Attempting uninstall: keras\n",
            "    Found existing installation: keras 2.14.0\n",
            "    Uninstalling keras-2.14.0:\n",
            "      Successfully uninstalled keras-2.14.0\n",
            "  Attempting uninstall: tensorboard-data-server\n",
            "    Found existing installation: tensorboard-data-server 0.7.2\n",
            "    Uninstalling tensorboard-data-server-0.7.2:\n",
            "      Successfully uninstalled tensorboard-data-server-0.7.2\n",
            "  Attempting uninstall: google-auth-oauthlib\n",
            "    Found existing installation: google-auth-oauthlib 1.0.0\n",
            "    Uninstalling google-auth-oauthlib-1.0.0:\n",
            "      Successfully uninstalled google-auth-oauthlib-1.0.0\n",
            "  Attempting uninstall: tensorboard\n",
            "    Found existing installation: tensorboard 2.14.1\n",
            "    Uninstalling tensorboard-2.14.1:\n",
            "      Successfully uninstalled tensorboard-2.14.1\n",
            "  Attempting uninstall: tensorflow\n",
            "    Found existing installation: tensorflow 2.14.0\n",
            "    Uninstalling tensorflow-2.14.0:\n",
            "      Successfully uninstalled tensorflow-2.14.0\n",
            "Successfully installed google-auth-oauthlib-0.4.6 keras-2.8.0 keras-preprocessing-1.1.2 tensorboard-2.8.0 tensorboard-data-server-0.6.1 tensorboard-plugin-wit-1.8.1 tensorflow-2.8.0 tf-estimator-nightly-2.8.0.dev2021122109\n"
          ]
        }
      ]
    },
    {
      "cell_type": "markdown",
      "metadata": {
        "id": "4hzP_5ZuGb2X"
      },
      "source": [
        "---\n",
        "## **PARTE 2**. Enunciado\n",
        "\n",
        "Consideraciones a tener en cuenta:\n",
        "\n",
        "- El entorno sobre el que trabajaremos será _SpaceInvaders-v0_ y el algoritmo que usaremos será _DQN_.\n",
        "\n",
        "- Para nuestro ejercicio, el requisito mínimo será alcanzado cuando el agente consiga una **media de recompensa por encima de 20 puntos en modo test**. Por ello, esta media de la recompensa se calculará a partir del código de test en la última celda del notebook.\n",
        "\n",
        "Este proyecto práctico consta de tres partes:\n",
        "\n",
        "1.   Implementar la red neuronal que se usará en la solución\n",
        "2.   Implementar las distintas piezas de la solución DQN\n",
        "3.   Justificar la respuesta en relación a los resultados obtenidos\n",
        "\n",
        "**Rúbrica**: Se valorará la originalidad en la solución aportada, así como la capacidad de discutir los resultados de forma detallada. El requisito mínimo servirá para aprobar la actividad, bajo premisa de que la discusión del resultado sera apropiada.\n",
        "\n",
        "IMPORTANTE:\n",
        "\n",
        "* Si no se consigue una puntuación óptima, responder sobre la mejor puntuación obtenida.\n",
        "* Para entrenamientos largos, recordad que podéis usar checkpoints de vuestros modelos para retomar los entrenamientos. En este caso, recordad cambiar los parámetros adecuadamente (sobre todo los relacionados con el proceso de exploración).\n",
        "* Se deberá entregar unicamente el notebook y los pesos del mejor modelo en un fichero .zip, de forma organizada.\n",
        "* Cada alumno deberá de subir la solución de forma individual."
      ]
    },
    {
      "cell_type": "markdown",
      "source": [
        "---\n",
        "## **PARTE 3**. Desarrollo y preguntas"
      ],
      "metadata": {
        "id": "6_b3mzw8IzJP"
      }
    },
    {
      "cell_type": "markdown",
      "metadata": {
        "id": "duPmUNOVGb2a"
      },
      "source": [
        "#### Importar librerías"
      ]
    },
    {
      "cell_type": "code",
      "execution_count": null,
      "metadata": {
        "id": "j3eRhgI-Gb2a"
      },
      "outputs": [],
      "source": [
        "from __future__ import division\n",
        "\n",
        "from PIL import Image\n",
        "import numpy as np\n",
        "import gym\n",
        "\n",
        "from tensorflow.keras.models import Sequential\n",
        "from tensorflow.keras.layers import Dense, Activation, Flatten, Conv2D, Permute, MaxPooling2D\n",
        "from tensorflow.keras.optimizers import Adam\n",
        "from tensorflow.keras.losses import Huber\n",
        "import tensorflow.keras.backend as K\n",
        "import tensorflow as tf\n",
        "\n",
        "from rl.agents.dqn import DQNAgent\n",
        "from rl.policy import LinearAnnealedPolicy, BoltzmannQPolicy, EpsGreedyQPolicy\n",
        "from rl.memory import SequentialMemory\n",
        "from rl.core import Processor\n",
        "from rl.callbacks import FileLogger, ModelIntervalCheckpoint"
      ]
    },
    {
      "cell_type": "markdown",
      "metadata": {
        "id": "f4jgQjzoGb2a"
      },
      "source": [
        "#### Configuración base"
      ]
    },
    {
      "cell_type": "code",
      "execution_count": null,
      "metadata": {
        "id": "jwOE6I_KGb2a"
      },
      "outputs": [],
      "source": [
        "INPUT_SHAPE = (84, 84)\n",
        "WINDOW_LENGTH = 4\n",
        "\n",
        "env_name = 'SpaceInvaders-v0'\n",
        "env = gym.make(env_name)\n",
        "\n",
        "np.random.seed(123)\n",
        "env.seed(123)\n",
        "nb_actions = env.action_space.n"
      ]
    },
    {
      "cell_type": "code",
      "execution_count": null,
      "metadata": {
        "id": "9jGEZUcpGb2a"
      },
      "outputs": [],
      "source": [
        "class AtariProcessor(Processor):\n",
        "    def process_observation(self, observation):\n",
        "        assert observation.ndim == 3  # (height, width, channel)\n",
        "        img = Image.fromarray(observation)\n",
        "        img = img.resize(INPUT_SHAPE).convert('L')\n",
        "        processed_observation = np.array(img)\n",
        "        assert processed_observation.shape == INPUT_SHAPE\n",
        "        return processed_observation.astype('uint8')\n",
        "\n",
        "    def process_state_batch(self, batch):\n",
        "        processed_batch = batch.astype('float32') / 255.\n",
        "        return processed_batch\n",
        "\n",
        "    def process_reward(self, reward):\n",
        "        return np.clip(reward, -1., 1.)"
      ]
    },
    {
      "cell_type": "markdown",
      "metadata": {
        "id": "7yitXTADGb2b"
      },
      "source": [
        "1. Implementación de la red neuronal"
      ]
    },
    {
      "cell_type": "code",
      "execution_count": null,
      "metadata": {
        "id": "O4GKrfWSGb2b",
        "colab": {
          "base_uri": "https://localhost:8080/"
        },
        "outputId": "fc55fb41-e8ad-4270-832a-cf9e2105e1f9"
      },
      "outputs": [
        {
          "output_type": "stream",
          "name": "stdout",
          "text": [
            "channels_last\n",
            "Model: \"sequential\"\n",
            "_________________________________________________________________\n",
            " Layer (type)                Output Shape              Param #   \n",
            "=================================================================\n",
            " permute (Permute)           (None, 84, 84, 4)         0         \n",
            "                                                                 \n",
            " conv2d (Conv2D)             (None, 20, 20, 32)        8224      \n",
            "                                                                 \n",
            " conv2d_1 (Conv2D)           (None, 9, 9, 64)          32832     \n",
            "                                                                 \n",
            " conv2d_2 (Conv2D)           (None, 7, 7, 64)          36928     \n",
            "                                                                 \n",
            " flatten (Flatten)           (None, 3136)              0         \n",
            "                                                                 \n",
            " dense (Dense)               (None, 512)               1606144   \n",
            "                                                                 \n",
            " activation (Activation)     (None, 512)               0         \n",
            "                                                                 \n",
            " dense_1 (Dense)             (None, 6)                 3078      \n",
            "                                                                 \n",
            "=================================================================\n",
            "Total params: 1,687,206\n",
            "Trainable params: 1,687,206\n",
            "Non-trainable params: 0\n",
            "_________________________________________________________________\n",
            "None\n"
          ]
        }
      ],
      "source": [
        "input_shape = (WINDOW_LENGTH,) + INPUT_SHAPE\n",
        "model = Sequential()\n",
        "print(K.image_data_format())\n",
        "if K.image_data_format() == 'channels_last':\n",
        "    # (width, height, channels)\n",
        "    model.add(Permute((2, 3, 1), input_shape=input_shape))\n",
        "elif K.image_data_format() == 'channels_first':\n",
        "    # (channels, width, height)\n",
        "    model.add(Permute((1, 2, 3), input_shape=input_shape))\n",
        "else:\n",
        "    raise RuntimeError('Unknown image_dim_ordering.')\n",
        "\n",
        "model.add(Conv2D(32, (8, 8), strides=(4, 4), activation='relu'))\n",
        "model.add(Conv2D(64, (4, 4), strides=(2, 2), activation='relu'))\n",
        "model.add(Conv2D(64, (3, 3), strides=(1, 1), activation='relu'))\n",
        "\n",
        "model.add(Flatten())\n",
        "\n",
        "model.add(Dense(512))\n",
        "model.add(Activation('relu'))\n",
        "\n",
        "model.add(Dense(nb_actions, activation='linear'))\n",
        "\n",
        "print(model.summary())"
      ]
    },
    {
      "cell_type": "markdown",
      "metadata": {
        "id": "OB9-_5HPGb2b"
      },
      "source": [
        "2. Implementación de la solución DQN"
      ]
    },
    {
      "cell_type": "code",
      "execution_count": null,
      "metadata": {
        "id": "foSlxWH1Gb2b"
      },
      "outputs": [],
      "source": [
        "# Let's define the memory for storing the experience\n",
        "memory = SequentialMemory(limit=1000000, window_length=WINDOW_LENGTH)\n",
        "processor = AtariProcessor()"
      ]
    },
    {
      "cell_type": "code",
      "source": [
        "# Define the policy that our agent will follow\n",
        "policy = LinearAnnealedPolicy(EpsGreedyQPolicy(), attr='eps',\n",
        "                              value_max=1., value_min=.1, value_test=.05,\n",
        "                              nb_steps=1000000)"
      ],
      "metadata": {
        "id": "cRCRr5334wKN"
      },
      "execution_count": null,
      "outputs": []
    },
    {
      "cell_type": "code",
      "source": [
        "# Define the agent\n",
        "dqn = DQNAgent(model=model, nb_actions=nb_actions, policy=policy,\n",
        "               memory=memory, processor=processor,\n",
        "               nb_steps_warmup=600000, gamma=.99,\n",
        "               target_model_update=10000,\n",
        "               train_interval=4)\n",
        "\n",
        "dqn.compile(Adam(learning_rate=.0002), metrics=['mae'])"
      ],
      "metadata": {
        "id": "mzg8AoGS4wIG"
      },
      "execution_count": null,
      "outputs": []
    },
    {
      "cell_type": "code",
      "source": [
        "# Cargar pesos antiguos para continuar con entrenamiento\n",
        "weights_filepath = 'dqn_SpaceInvaders-v0_weights.h5f'\n",
        "dqn.load_weights(weights_filepath)"
      ],
      "metadata": {
        "id": "9DsUkp2SzAn1"
      },
      "execution_count": null,
      "outputs": []
    },
    {
      "cell_type": "code",
      "source": [
        "# Training part\n",
        "weights_filename = 'dqn_{}_weights.h5f'.format(env_name)\n",
        "checkpoint_weights_filename = 'dqn_' + env_name + '_weights_{step}.h5f'\n",
        "log_filename = 'dqn_{}_log.json'.format(env_name)\n",
        "callbacks = [ModelIntervalCheckpoint(checkpoint_weights_filename, interval=75000)]\n",
        "callbacks += [FileLogger(log_filename, interval=10000)]\n",
        "\n",
        "# Train the agent\n",
        "dqn.fit(env, callbacks=callbacks, nb_steps=2000000, log_interval=10000, visualize=False)\n",
        "\n",
        "# After training is done, we save the final weights.\n",
        "dqn.save_weights(weights_filename, overwrite=True)"
      ],
      "metadata": {
        "colab": {
          "base_uri": "https://localhost:8080/"
        },
        "id": "qruBZP8-4wFe",
        "outputId": "23588ffe-78fa-4a41-9630-9f41b253277d"
      },
      "execution_count": null,
      "outputs": [
        {
          "output_type": "stream",
          "name": "stdout",
          "text": [
            "Training for 600000 steps ...\n",
            "Interval 1 (0 steps performed)\n"
          ]
        },
        {
          "output_type": "stream",
          "name": "stderr",
          "text": [
            "/usr/local/lib/python3.10/dist-packages/keras/engine/training_v1.py:2079: UserWarning: `Model.state_updates` will be removed in a future version. This property should not be used in TensorFlow 2.0, as `updates` are applied automatically.\n",
            "  updates=self.state_updates,\n"
          ]
        },
        {
          "output_type": "stream",
          "name": "stdout",
          "text": [
            "10000/10000 [==============================] - 58s 5ms/step - reward: 0.0242\n",
            "13 episodes - episode_reward: 18.615 [9.000, 29.000] - ale.lives: 2.202\n",
            "\n",
            "Interval 2 (10000 steps performed)\n",
            "10000/10000 [==============================] - 48s 5ms/step - reward: 0.0253\n",
            "13 episodes - episode_reward: 19.154 [11.000, 29.000] - ale.lives: 2.166\n",
            "\n",
            "Interval 3 (20000 steps performed)\n",
            "10000/10000 [==============================] - 47s 5ms/step - reward: 0.0239\n",
            "13 episodes - episode_reward: 18.462 [9.000, 32.000] - ale.lives: 2.089\n",
            "\n",
            "Interval 4 (30000 steps performed)\n",
            "10000/10000 [==============================] - 46s 5ms/step - reward: 0.0249\n",
            "13 episodes - episode_reward: 19.231 [14.000, 27.000] - ale.lives: 2.209\n",
            "\n",
            "Interval 5 (40000 steps performed)\n",
            "10000/10000 [==============================] - 46s 5ms/step - reward: 0.0249\n",
            "12 episodes - episode_reward: 19.583 [7.000, 29.000] - ale.lives: 2.049\n",
            "\n",
            "Interval 6 (50000 steps performed)\n",
            "10000/10000 [==============================] - 47s 5ms/step - reward: 0.0261\n",
            "13 episodes - episode_reward: 20.077 [10.000, 29.000] - ale.lives: 2.088\n",
            "\n",
            "Interval 7 (60000 steps performed)\n",
            "10000/10000 [==============================] - 47s 5ms/step - reward: 0.0248\n",
            "12 episodes - episode_reward: 21.000 [12.000, 29.000] - ale.lives: 2.163\n",
            "\n",
            "Interval 8 (70000 steps performed)\n",
            "10000/10000 [==============================] - 47s 5ms/step - reward: 0.0256\n",
            "14 episodes - episode_reward: 18.143 [7.000, 32.000] - ale.lives: 1.998\n",
            "\n",
            "Interval 9 (80000 steps performed)\n",
            "10000/10000 [==============================] - 47s 5ms/step - reward: 0.0243\n",
            "14 episodes - episode_reward: 17.071 [4.000, 25.000] - ale.lives: 2.127\n",
            "\n",
            "Interval 10 (90000 steps performed)\n",
            "10000/10000 [==============================] - 47s 5ms/step - reward: 0.0246\n",
            "13 episodes - episode_reward: 19.154 [6.000, 35.000] - ale.lives: 2.147\n",
            "\n",
            "Interval 11 (100000 steps performed)\n",
            "10000/10000 [==============================] - 47s 5ms/step - reward: 0.0244\n",
            "14 episodes - episode_reward: 17.500 [8.000, 28.000] - ale.lives: 2.075\n",
            "\n",
            "Interval 12 (110000 steps performed)\n",
            "10000/10000 [==============================] - 47s 5ms/step - reward: 0.0249\n",
            "14 episodes - episode_reward: 18.357 [11.000, 27.000] - ale.lives: 2.062\n",
            "\n",
            "Interval 13 (120000 steps performed)\n",
            "10000/10000 [==============================] - 46s 5ms/step - reward: 0.0237\n",
            "13 episodes - episode_reward: 18.385 [10.000, 32.000] - ale.lives: 2.171\n",
            "\n",
            "Interval 14 (130000 steps performed)\n",
            "10000/10000 [==============================] - 46s 5ms/step - reward: 0.0233\n",
            "13 episodes - episode_reward: 16.538 [5.000, 29.000] - ale.lives: 2.253\n",
            "\n",
            "Interval 15 (140000 steps performed)\n",
            "10000/10000 [==============================] - 47s 5ms/step - reward: 0.0239\n",
            "12 episodes - episode_reward: 21.167 [6.000, 41.000] - ale.lives: 2.039\n",
            "\n",
            "Interval 16 (150000 steps performed)\n",
            "10000/10000 [==============================] - 47s 5ms/step - reward: 0.0234\n",
            "14 episodes - episode_reward: 17.143 [5.000, 28.000] - ale.lives: 2.012\n",
            "\n",
            "Interval 17 (160000 steps performed)\n",
            "10000/10000 [==============================] - 47s 5ms/step - reward: 0.0237\n",
            "11 episodes - episode_reward: 21.636 [9.000, 33.000] - ale.lives: 2.108\n",
            "\n",
            "Interval 18 (170000 steps performed)\n",
            "10000/10000 [==============================] - 47s 5ms/step - reward: 0.0241\n",
            "13 episodes - episode_reward: 17.538 [8.000, 29.000] - ale.lives: 2.192\n",
            "\n",
            "Interval 19 (180000 steps performed)\n",
            "10000/10000 [==============================] - 47s 5ms/step - reward: 0.0238\n",
            "12 episodes - episode_reward: 19.417 [8.000, 31.000] - ale.lives: 2.000\n",
            "\n",
            "Interval 20 (190000 steps performed)\n",
            "10000/10000 [==============================] - 46s 5ms/step - reward: 0.0247\n",
            "16 episodes - episode_reward: 16.562 [12.000, 22.000] - ale.lives: 2.060\n",
            "\n",
            "Interval 21 (200000 steps performed)\n",
            "10000/10000 [==============================] - 353s 35ms/step - reward: 0.0227\n",
            "11 episodes - episode_reward: 19.273 [12.000, 26.000] - loss: 0.017 - mae: 1.772 - mean_q: 2.158 - mean_eps: 0.100 - ale.lives: 1.913\n",
            "\n",
            "Interval 22 (210000 steps performed)\n",
            "10000/10000 [==============================] - 364s 36ms/step - reward: 0.0210\n",
            "16 episodes - episode_reward: 13.188 [5.000, 26.000] - loss: 0.015 - mae: 1.783 - mean_q: 2.164 - mean_eps: 0.100 - ale.lives: 2.187\n",
            "\n",
            "Interval 23 (220000 steps performed)\n",
            "10000/10000 [==============================] - 371s 37ms/step - reward: 0.0223\n",
            "17 episodes - episode_reward: 13.941 [5.000, 28.000] - loss: 0.014 - mae: 1.791 - mean_q: 2.172 - mean_eps: 0.100 - ale.lives: 2.087\n",
            "\n",
            "Interval 24 (230000 steps performed)\n",
            "10000/10000 [==============================] - 360s 36ms/step - reward: 0.0208\n",
            "12 episodes - episode_reward: 17.250 [5.000, 31.000] - loss: 0.014 - mae: 1.820 - mean_q: 2.208 - mean_eps: 0.100 - ale.lives: 2.200\n",
            "\n",
            "Interval 25 (240000 steps performed)\n",
            "10000/10000 [==============================] - 358s 36ms/step - reward: 0.0199\n",
            "13 episodes - episode_reward: 14.154 [3.000, 27.000] - loss: 0.014 - mae: 1.841 - mean_q: 2.235 - mean_eps: 0.100 - ale.lives: 1.961\n",
            "\n",
            "Interval 26 (250000 steps performed)\n",
            "10000/10000 [==============================] - 358s 36ms/step - reward: 0.0212\n",
            "16 episodes - episode_reward: 14.000 [6.000, 24.000] - loss: 0.014 - mae: 1.834 - mean_q: 2.227 - mean_eps: 0.100 - ale.lives: 1.990\n",
            "\n",
            "Interval 27 (260000 steps performed)\n",
            "10000/10000 [==============================] - 358s 36ms/step - reward: 0.0201\n",
            "15 episodes - episode_reward: 13.400 [7.000, 23.000] - loss: 0.013 - mae: 1.851 - mean_q: 2.248 - mean_eps: 0.100 - ale.lives: 1.958\n",
            "\n",
            "Interval 28 (270000 steps performed)\n",
            "10000/10000 [==============================] - 360s 36ms/step - reward: 0.0228\n",
            "12 episodes - episode_reward: 17.583 [4.000, 31.000] - loss: 0.013 - mae: 1.874 - mean_q: 2.276 - mean_eps: 0.100 - ale.lives: 1.807\n",
            "\n",
            "Interval 29 (280000 steps performed)\n",
            "10000/10000 [==============================] - 359s 36ms/step - reward: 0.0239\n",
            "13 episodes - episode_reward: 19.077 [11.000, 32.000] - loss: 0.013 - mae: 1.890 - mean_q: 2.297 - mean_eps: 0.100 - ale.lives: 2.055\n",
            "\n",
            "Interval 30 (290000 steps performed)\n",
            "10000/10000 [==============================] - 355s 35ms/step - reward: 0.0238\n",
            "14 episodes - episode_reward: 17.357 [7.000, 27.000] - loss: 0.013 - mae: 1.911 - mean_q: 2.325 - mean_eps: 0.100 - ale.lives: 2.077\n",
            "\n",
            "Interval 31 (300000 steps performed)\n",
            "10000/10000 [==============================] - 358s 36ms/step - reward: 0.0225\n",
            "15 episodes - episode_reward: 15.067 [10.000, 24.000] - loss: 0.013 - mae: 1.942 - mean_q: 2.362 - mean_eps: 0.100 - ale.lives: 1.988\n",
            "\n",
            "Interval 32 (310000 steps performed)\n",
            "10000/10000 [==============================] - 359s 36ms/step - reward: 0.0233\n",
            "15 episodes - episode_reward: 15.733 [5.000, 29.000] - loss: 0.013 - mae: 1.946 - mean_q: 2.369 - mean_eps: 0.100 - ale.lives: 1.938\n",
            "\n",
            "Interval 33 (320000 steps performed)\n",
            "10000/10000 [==============================] - 359s 36ms/step - reward: 0.0244\n",
            "14 episodes - episode_reward: 16.643 [4.000, 31.000] - loss: 0.013 - mae: 1.972 - mean_q: 2.400 - mean_eps: 0.100 - ale.lives: 2.191\n",
            "\n",
            "Interval 34 (330000 steps performed)\n",
            "10000/10000 [==============================] - 360s 36ms/step - reward: 0.0229\n",
            "14 episodes - episode_reward: 16.214 [8.000, 24.000] - loss: 0.013 - mae: 1.986 - mean_q: 2.417 - mean_eps: 0.100 - ale.lives: 2.248\n",
            "\n",
            "Interval 35 (340000 steps performed)\n",
            "10000/10000 [==============================] - 357s 36ms/step - reward: 0.0227\n",
            "13 episodes - episode_reward: 17.846 [8.000, 26.000] - loss: 0.013 - mae: 2.018 - mean_q: 2.457 - mean_eps: 0.100 - ale.lives: 2.098\n",
            "\n",
            "Interval 36 (350000 steps performed)\n",
            "10000/10000 [==============================] - 358s 36ms/step - reward: 0.0239\n",
            "12 episodes - episode_reward: 19.000 [6.000, 32.000] - loss: 0.014 - mae: 2.026 - mean_q: 2.468 - mean_eps: 0.100 - ale.lives: 2.111\n",
            "\n",
            "Interval 37 (360000 steps performed)\n",
            "10000/10000 [==============================] - 357s 36ms/step - reward: 0.0251\n",
            "12 episodes - episode_reward: 21.917 [12.000, 34.000] - loss: 0.014 - mae: 2.047 - mean_q: 2.493 - mean_eps: 0.100 - ale.lives: 2.019\n",
            "\n",
            "Interval 38 (370000 steps performed)\n",
            "10000/10000 [==============================] - 361s 36ms/step - reward: 0.0240\n",
            "14 episodes - episode_reward: 16.786 [6.000, 26.000] - loss: 0.014 - mae: 2.077 - mean_q: 2.530 - mean_eps: 0.100 - ale.lives: 2.094\n",
            "\n",
            "Interval 39 (380000 steps performed)\n",
            "10000/10000 [==============================] - 371s 37ms/step - reward: 0.0257\n",
            "14 episodes - episode_reward: 17.929 [15.000, 27.000] - loss: 0.014 - mae: 2.086 - mean_q: 2.541 - mean_eps: 0.100 - ale.lives: 2.058\n",
            "\n",
            "Interval 40 (390000 steps performed)\n",
            "10000/10000 [==============================] - 360s 36ms/step - reward: 0.0249\n",
            "12 episodes - episode_reward: 21.750 [10.000, 33.000] - loss: 0.014 - mae: 2.101 - mean_q: 2.562 - mean_eps: 0.100 - ale.lives: 2.045\n",
            "\n",
            "Interval 41 (400000 steps performed)\n",
            "10000/10000 [==============================] - 355s 35ms/step - reward: 0.0241\n",
            "11 episodes - episode_reward: 21.818 [16.000, 29.000] - loss: 0.014 - mae: 2.135 - mean_q: 2.601 - mean_eps: 0.100 - ale.lives: 1.999\n",
            "\n",
            "Interval 42 (410000 steps performed)\n",
            "10000/10000 [==============================] - 355s 36ms/step - reward: 0.0235\n",
            "15 episodes - episode_reward: 15.933 [5.000, 29.000] - loss: 0.015 - mae: 2.162 - mean_q: 2.633 - mean_eps: 0.100 - ale.lives: 2.147\n",
            "\n",
            "Interval 43 (420000 steps performed)\n",
            "10000/10000 [==============================] - 356s 36ms/step - reward: 0.0236\n",
            "11 episodes - episode_reward: 20.818 [5.000, 39.000] - loss: 0.015 - mae: 2.199 - mean_q: 2.679 - mean_eps: 0.100 - ale.lives: 1.985\n",
            "\n",
            "Interval 44 (430000 steps performed)\n",
            "10000/10000 [==============================] - 356s 36ms/step - reward: 0.0216\n",
            "14 episodes - episode_reward: 16.357 [10.000, 26.000] - loss: 0.015 - mae: 2.256 - mean_q: 2.751 - mean_eps: 0.100 - ale.lives: 2.173\n",
            "\n",
            "Interval 45 (440000 steps performed)\n",
            "10000/10000 [==============================] - 354s 35ms/step - reward: 0.0225\n",
            "12 episodes - episode_reward: 18.667 [10.000, 30.000] - loss: 0.015 - mae: 2.293 - mean_q: 2.797 - mean_eps: 0.100 - ale.lives: 2.142\n",
            "\n",
            "Interval 46 (450000 steps performed)\n",
            "10000/10000 [==============================] - 355s 35ms/step - reward: 0.0226\n",
            "12 episodes - episode_reward: 17.583 [9.000, 29.000] - loss: 0.015 - mae: 2.318 - mean_q: 2.828 - mean_eps: 0.100 - ale.lives: 2.066\n",
            "\n",
            "Interval 47 (460000 steps performed)\n",
            "10000/10000 [==============================] - 356s 36ms/step - reward: 0.0224\n",
            "14 episodes - episode_reward: 16.286 [7.000, 34.000] - loss: 0.015 - mae: 2.373 - mean_q: 2.896 - mean_eps: 0.100 - ale.lives: 2.299\n",
            "\n",
            "Interval 48 (470000 steps performed)\n",
            "10000/10000 [==============================] - 350s 35ms/step - reward: 0.0236\n",
            "10 episodes - episode_reward: 23.700 [15.000, 32.000] - loss: 0.015 - mae: 2.393 - mean_q: 2.919 - mean_eps: 0.100 - ale.lives: 2.069\n",
            "\n",
            "Interval 49 (480000 steps performed)\n",
            "10000/10000 [==============================] - 348s 35ms/step - reward: 0.0251\n",
            "12 episodes - episode_reward: 20.750 [12.000, 34.000] - loss: 0.016 - mae: 2.432 - mean_q: 2.967 - mean_eps: 0.100 - ale.lives: 2.097\n",
            "\n",
            "Interval 50 (490000 steps performed)\n",
            "10000/10000 [==============================] - 351s 35ms/step - reward: 0.0224\n",
            "15 episodes - episode_reward: 15.267 [7.000, 34.000] - loss: 0.016 - mae: 2.449 - mean_q: 2.989 - mean_eps: 0.100 - ale.lives: 2.122\n",
            "\n",
            "Interval 51 (500000 steps performed)\n",
            "10000/10000 [==============================] - 350s 35ms/step - reward: 0.0220\n",
            "11 episodes - episode_reward: 19.091 [6.000, 28.000] - loss: 0.016 - mae: 2.474 - mean_q: 3.019 - mean_eps: 0.100 - ale.lives: 2.156\n",
            "\n",
            "Interval 52 (510000 steps performed)\n",
            "10000/10000 [==============================] - 350s 35ms/step - reward: 0.0236\n",
            "11 episodes - episode_reward: 21.455 [8.000, 33.000] - loss: 0.016 - mae: 2.498 - mean_q: 3.050 - mean_eps: 0.100 - ale.lives: 2.002\n",
            "\n",
            "Interval 53 (520000 steps performed)\n",
            "10000/10000 [==============================] - 351s 35ms/step - reward: 0.0202\n",
            "15 episodes - episode_reward: 14.267 [2.000, 23.000] - loss: 0.017 - mae: 2.544 - mean_q: 3.106 - mean_eps: 0.100 - ale.lives: 2.008\n",
            "\n",
            "Interval 54 (530000 steps performed)\n",
            "10000/10000 [==============================] - 353s 35ms/step - reward: 0.0230\n",
            "13 episodes - episode_reward: 17.000 [6.000, 27.000] - loss: 0.017 - mae: 2.598 - mean_q: 3.170 - mean_eps: 0.100 - ale.lives: 2.144\n",
            "\n",
            "Interval 55 (540000 steps performed)\n",
            "10000/10000 [==============================] - 350s 35ms/step - reward: 0.0227\n",
            "11 episodes - episode_reward: 20.818 [9.000, 36.000] - loss: 0.017 - mae: 2.614 - mean_q: 3.189 - mean_eps: 0.100 - ale.lives: 1.830\n",
            "\n",
            "Interval 56 (550000 steps performed)\n",
            "10000/10000 [==============================] - 352s 35ms/step - reward: 0.0237\n",
            "14 episodes - episode_reward: 17.357 [10.000, 27.000] - loss: 0.017 - mae: 2.652 - mean_q: 3.235 - mean_eps: 0.100 - ale.lives: 1.994\n",
            "\n",
            "Interval 57 (560000 steps performed)\n",
            "10000/10000 [==============================] - 348s 35ms/step - reward: 0.0240\n",
            "12 episodes - episode_reward: 19.833 [11.000, 29.000] - loss: 0.016 - mae: 2.672 - mean_q: 3.263 - mean_eps: 0.100 - ale.lives: 2.091\n",
            "\n",
            "Interval 58 (570000 steps performed)\n",
            " 1453/10000 [===>..........................] - ETA: 4:59 - reward: 0.0227"
          ]
        }
      ]
    },
    {
      "cell_type": "code",
      "source": [
        "# Testing part to calculate the mean reward\n",
        "weights_filename = 'dqn_{}_weights.h5f'.format(env_name)\n",
        "\n",
        "dqn.load_weights(weights_filename)\n",
        "dqn.test(env, nb_episodes=10, visualize=False)"
      ],
      "metadata": {
        "id": "34cunE284wDI",
        "colab": {
          "base_uri": "https://localhost:8080/"
        },
        "outputId": "e5bd48dc-129f-428c-fa78-a5de7cbd8e2c"
      },
      "execution_count": null,
      "outputs": [
        {
          "output_type": "stream",
          "name": "stdout",
          "text": [
            "Testing for 10 episodes ...\n",
            "Episode 1: reward: 28.000, steps: 1201\n",
            "Episode 2: reward: 28.000, steps: 1271\n",
            "Episode 3: reward: 30.000, steps: 1221\n",
            "Episode 4: reward: 18.000, steps: 1022\n",
            "Episode 5: reward: 34.000, steps: 1301\n",
            "Episode 6: reward: 12.000, steps: 461\n",
            "Episode 7: reward: 17.000, steps: 673\n",
            "Episode 8: reward: 21.000, steps: 809\n",
            "Episode 9: reward: 21.000, steps: 633\n",
            "Episode 10: reward: 14.000, steps: 654\n"
          ]
        },
        {
          "output_type": "execute_result",
          "data": {
            "text/plain": [
              "<keras.callbacks.History at 0x797ef8747f40>"
            ]
          },
          "metadata": {},
          "execution_count": 48
        }
      ]
    },
    {
      "cell_type": "markdown",
      "metadata": {
        "id": "-NAlu8b1Gb2b"
      },
      "source": [
        "3. Justificación de los parámetros seleccionados y de los resultados obtenidos"
      ]
    },
    {
      "cell_type": "markdown",
      "source": [
        "* **Introducción**: Para este proyecto nos hemos orientado en diversas fuentes citadas al final del documento en `bibliografía`. La referencia principal es la [1].\n",
        "\n",
        "* **Preprocesado**: La versión del juego de `Atari Space Invaders` usa frames de (210, 160, 3). Se procede a continuación a reescalar los frames del juego a  (84,84) y convertirlo a escala de grises. Esto disminuye la complejidad computacional y facilita el procesamiento por parte del modelo. Finalmente, el canal de grises será reemplazado por el número de frames o ventanas consecutivas dando lugar a un formato (84,84,4). Se elige 4 porque esto permite que el modelo tenga en cuenta no solo el estado actual del juego, sino también su estado reciente, lo que es crucial para entender la dinámica temporal del juego (movimiento, velocidad, etc...).\n",
        "\n",
        "* **Arquitectura de red**: Tras seguir los consejos vistos en clase y realizar diversas pruebas, se ha comprobado que las redes ligeras son más convenientes para los entrenamientos en entornos de Atari. Las redes pesadas, con más capas convolucionales, capas MaxPooling para reducir dimensionalidad y capas de regularización enlentecen mucho el entrenamiento sin aportar resultados significativamente mejores.<br>\n",
        "Se han elegido 3 capas convolucionales para la extracción de características y dos capas densa para el procesamiento de alto nivel y la toma de decisiones.\n",
        "La función de activación de la última capa es lineal para predecir los valores de *Q* (valor esperado de las recompensas futuras para cada acción posible en un estado dado).\n",
        "\n",
        "* **Memoria**: No se han observado grandes cambios en el entrenamiento al variar el parámetro `limit`. Las ventajas de tener mucha memorias es que el algoritmo de DQN permite obtener mayor información de la experiencia, pero puede tener la desventaja de afectar el entrenamiento si se han llegado a acumular experiencias con poca recompensa.<br>\n",
        "En base a las pruebas realizadas y la bibliografía refenciada en el último apartado se ha elegido un una memoria de 1000000 transiciones.\n",
        "\n",
        "* **Policy**: como `policy` se ha implementado la `LinarAnnealedPolicy` en combinación con la `EpsGreedyQPolicy` la cual permite un equilibrio entre exploración y explotación. El agente explorará cada vez menos hasta llegar a 1100000 de steps, a partir de donde se mantendrá un mínimo porcentaje de exploración de 10% en las acciones tomadas, pasando a la fase de explotación con la política que el agente ha aprendido hasta ese step.<br>\n",
        "En cuanto al parámetro `value_test=.05` se refiere al valor de epsilon utilizado durante la fase de \"test\" del modelo. cuanto más bajo el valor de `value_test` el agente realizará menos exploración y se enfocará más en explotar lo que ha aprendido. Según la bibliografía .05 es un valor estándar.<br>\n",
        "Se han probado otras \"policies\" como `BoltzmannQPolicy` variando el parámetros de `tau` que se encarga de la exploración. Sin embargo, no se ha llegado a resultados satisfactorios o se requerían tiempos de entrenamiento mayores.\n",
        "\n",
        "* **Agente**: dado que se ha implentado una memoria alta de experiencia (1000000), se ha aprovechado para llevar a cabo un alto warmup de 600000 transiciones. Esto permite al agente empezar su entrenamiento con una sólida base de experiencia además de ofrecer un alto grado de exploración al comienzo.<br>\n",
        "A su vez, se implementó una prueba con el parámetro `enable_dueling_network=True, dueling_type='avg'`. Esta configuración permite que el modelo distinga mejor entre el valor de estar en un estado y la ventaja de realizar una acción específica en ese estado.El uso del promedio ayuda a equilibrar y estabilizar las estimaciones de los valores Q. Sim embargo, habilitar este parámetro aumentó muchísimo el tiempo computacional requerido en cada intervalo. Por ello, se ha decidido finalmente dejar fuera ese parámetro.<br>\n",
        "Por último, se ha implementado un optimizador `Adam` con un `learning_rate` de 0.0002 (algo más bajo del valor estándar de la bibliografía). Se ha decidido bajar el `learning_rate`, para cerciorarse de encontrar mínimos locales satisfactorios aunque el entrenamiento pueda tardar más.\n",
        "\n",
        "* **Entrenamiento, pesos y experiencia**: Dado que a ninguno de los integrantes del grupo le ha sido posible instalar localmente el entorno para `Atari` se ha tenido que realizar el proyecto con `Google Colab`.\n",
        "Los entrenamientos en `Google Colab` se han parado en numerosas ocasiones, por lo que ha sido necesario cargar los pesos y ajustar los hiperparámetros como la epsilon y los steps cada vez que se reanudaba el entrenamiento. También se hizo un intento de guardar y cargar la experiencia acumulada con la función (callback) que se presenta a continuación. Pero debido a que daba resultados cuando la memoria excedía el límite establecido y relentizaba el entrenamiento se ha decidido no implentar la función.\n",
        "\n",
        "Ejemplo de función para guardar experiencia:\n",
        "\n",
        "```import pickle\n",
        "from keras.callbacks import Callback\n",
        "\n",
        "# Clase callback para la experiencia\n",
        "class SaveReplayMemoryCallback(Callback):\n",
        "    def _init_(self, memory_file_path, interval):\n",
        "        self.memory_file_path = memory_file_path\n",
        "        self.interval = interval\n",
        "\n",
        "    def on_step_end(self, step, logs={}):\n",
        "        # Save the replay memory at the specified interval\n",
        "        if step % self.interval == 0:\n",
        "            with open(self.memory_file_path, 'wb') as memory_file:\n",
        "                pickle.dump(self.model.memory, memory_file)\n",
        "\n",
        "# Establecer callback de experiencia:\n",
        "callbacks += [save_memory_callback]\n",
        "\n",
        "# Guardar y cargar experiencia:\n",
        "\n",
        "with open(memory_file_path, 'rb') as memory_file:\n",
        "  loaded_memory = pickle.load(memory_file)\n",
        "\n",
        "dqn.memory = loaded_memory\n",
        "\n",
        "```\n",
        "* **Conclusiones**: Aunque se logra alcanzar el objetivo de un promedio de 20 en recompensas por episodio, el modelo sería mejorable con más tiempo de entrenamiento."
      ],
      "metadata": {
        "id": "MSQdwHZj5tGJ"
      }
    },
    {
      "cell_type": "markdown",
      "source": [
        "### Bilbiografía\n",
        "\n",
        "[1] https://nihit.github.io/resources/spaceinvaders.pdf <br>\n",
        "[2] https://github.com/engichang1467/Space-Invader-Keras-RL/blob/main/game.ipynb <br>\n",
        "[3] https://www.cs.toronto.edu/~vmnih/docs/dqn.pdf <br>\n",
        "[4] https://wandb.ai/raghmura/qualcomm/reports/Space-Invaders-challenge-a-Reinforcement-Learning-competition--Vmlldzo5MzEzMg <br>\n",
        "[5] https://github.com/qarchli/dqn-on-space-invaders/tree/master <br>\n",
        "[6] https://chloeewang.medium.com/using-deep-reinforcement-learning-to-play-atari-space-invaders-8d5159aa69ed <br>\n",
        "[7] https://github.com/yilundu/DQN-DDQN-on-Space-Invaders/tree/master <br>\n",
        "[8] https://github.com/sudharsan13296/Deep-Reinforcement-Learning-With-Python/blob/master/09.%20%20Deep%20Q%20Network%20and%20its%20Variants/9.03.%20Playing%20Atari%20Games%20using%20DQN.ipynb"
      ],
      "metadata": {
        "id": "UVjwcRr84nW1"
      }
    },
    {
      "cell_type": "markdown",
      "source": [
        "---"
      ],
      "metadata": {
        "id": "ANFQiicXK3sO"
      }
    }
  ],
  "metadata": {
    "kernelspec": {
      "display_name": "Python 3",
      "name": "python3"
    },
    "language_info": {
      "codemirror_mode": {
        "name": "ipython",
        "version": 3
      },
      "file_extension": ".py",
      "mimetype": "text/x-python",
      "name": "python",
      "nbconvert_exporter": "python",
      "pygments_lexer": "ipython3",
      "version": "3.7.9"
    },
    "colab": {
      "provenance": [],
      "gpuType": "T4",
      "include_colab_link": true
    },
    "accelerator": "GPU"
  },
  "nbformat": 4,
  "nbformat_minor": 0
}